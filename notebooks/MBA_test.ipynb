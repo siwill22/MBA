{
 "cells": [
  {
   "cell_type": "code",
   "execution_count": 2,
   "id": "0a92463f-af41-4df0-9f9d-3f15707e7e71",
   "metadata": {},
   "outputs": [
    {
     "name": "stdout",
     "output_type": "stream",
     "text": [
      "The autoreload extension is already loaded. To reload it, use:\n",
      "  %reload_ext autoreload\n"
     ]
    }
   ],
   "source": [
    "import sys\n",
    "sys.path.append('../utils')\n",
    "\n",
    "import numpy as np\n",
    "import pandas as pd\n",
    "import matplotlib.pyplot as plt\n",
    "#import xarray as xr\n",
    "import pygmt\n",
    "import GravityFFT, GravityPrism\n",
    "\n",
    "%load_ext autoreload\n",
    "%autoreload 2\n"
   ]
  },
  {
   "cell_type": "code",
   "execution_count": 8,
   "id": "1d2b5d70-0533-4b54-b4a5-f666456f491f",
   "metadata": {},
   "outputs": [
    {
     "name": "stderr",
     "output_type": "stream",
     "text": [
      "Thread 1\t Row = 116\t of = 120\r"
     ]
    }
   ],
   "source": [
    "region = [1.76e7, 1.82e7, -1.9e6, -1.3e6]\n",
    "filter_width = 5000\n",
    "grid_spacing = 5000\n",
    "rho=1500\n",
    "base_depth=10000\n",
    "\n",
    "\n",
    "model_surface = pygmt.grdfilter(grid='/Users/simon/Work/TECTA/GMmodels/LHR_SS_topo18_2km.nc', \n",
    "                                distance=0, filter='g{:f}'.format(filter_width), \n",
    "                                region=region, spacing='{:f}'.format(grid_spacing))\n",
    "\n",
    "\n",
    "model_gravity = GravityPrism.okabe(model_surface, rho, base_depth, observation_height=0)\n",
    "\n"
   ]
  },
  {
   "cell_type": "code",
   "execution_count": 9,
   "id": "3a9fea61-e1d8-4c4b-8acf-7637ccb540fb",
   "metadata": {},
   "outputs": [
    {
     "name": "stdout",
     "output_type": "stream",
     "text": [
      "z0 set to 0\n",
      "finished iteration 1 ....\n",
      "finished iteration 2 ....\n",
      "finished iteration 3 ....\n",
      "finished iteration 4 ....\n",
      "finished iteration 5 ....\n",
      "finished iteration 6 ....\n",
      "finished iteration 7 ....\n",
      "finished iteration 8 ....\n"
     ]
    }
   ],
   "source": [
    "model_gravity_f = GravityFFT.parkergrav(model_surface.x.data, model_surface.y.data, model_surface.data, base_depth, rho/1000, 0)\n"
   ]
  },
  {
   "cell_type": "code",
   "execution_count": null,
   "id": "d7eab55d-2f28-4393-a55c-a468612a445e",
   "metadata": {},
   "outputs": [],
   "source": []
  }
 ],
 "metadata": {
  "kernelspec": {
   "display_name": "Python [conda env:pygmt7]",
   "language": "python",
   "name": "conda-env-pygmt7-py"
  },
  "language_info": {
   "codemirror_mode": {
    "name": "ipython",
    "version": 3
   },
   "file_extension": ".py",
   "mimetype": "text/x-python",
   "name": "python",
   "nbconvert_exporter": "python",
   "pygments_lexer": "ipython3",
   "version": "3.8.13"
  }
 },
 "nbformat": 4,
 "nbformat_minor": 5
}
